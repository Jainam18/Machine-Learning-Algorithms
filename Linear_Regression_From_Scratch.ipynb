{
 "cells": [
  {
   "cell_type": "code",
   "execution_count": 2,
   "metadata": {},
   "outputs": [],
   "source": [
    "import pandas as pd\n",
    "import numpy as np\n",
    "import matplotlib.pyplot as plt\n",
    "plt.style.use('ggplot')\n",
    "import seaborn as sns"
   ]
  },
  {
   "cell_type": "markdown",
   "metadata": {},
   "source": [
    "Imported the data"
   ]
  },
  {
   "cell_type": "code",
   "execution_count": 3,
   "metadata": {},
   "outputs": [
    {
     "data": {
      "text/html": [
       "<div>\n",
       "<style scoped>\n",
       "    .dataframe tbody tr th:only-of-type {\n",
       "        vertical-align: middle;\n",
       "    }\n",
       "\n",
       "    .dataframe tbody tr th {\n",
       "        vertical-align: top;\n",
       "    }\n",
       "\n",
       "    .dataframe thead th {\n",
       "        text-align: right;\n",
       "    }\n",
       "</style>\n",
       "<table border=\"1\" class=\"dataframe\">\n",
       "  <thead>\n",
       "    <tr style=\"text-align: right;\">\n",
       "      <th></th>\n",
       "      <th>Population</th>\n",
       "      <th>Profit</th>\n",
       "    </tr>\n",
       "  </thead>\n",
       "  <tbody>\n",
       "    <tr>\n",
       "      <th>0</th>\n",
       "      <td>6.1101</td>\n",
       "      <td>17.5920</td>\n",
       "    </tr>\n",
       "    <tr>\n",
       "      <th>1</th>\n",
       "      <td>5.5277</td>\n",
       "      <td>9.1302</td>\n",
       "    </tr>\n",
       "    <tr>\n",
       "      <th>2</th>\n",
       "      <td>8.5186</td>\n",
       "      <td>13.6620</td>\n",
       "    </tr>\n",
       "    <tr>\n",
       "      <th>3</th>\n",
       "      <td>7.0032</td>\n",
       "      <td>11.8540</td>\n",
       "    </tr>\n",
       "    <tr>\n",
       "      <th>4</th>\n",
       "      <td>5.8598</td>\n",
       "      <td>6.8233</td>\n",
       "    </tr>\n",
       "  </tbody>\n",
       "</table>\n",
       "</div>"
      ],
      "text/plain": [
       "   Population   Profit\n",
       "0      6.1101  17.5920\n",
       "1      5.5277   9.1302\n",
       "2      8.5186  13.6620\n",
       "3      7.0032  11.8540\n",
       "4      5.8598   6.8233"
      ]
     },
     "execution_count": 3,
     "metadata": {},
     "output_type": "execute_result"
    }
   ],
   "source": [
    "data1 = pd.read_csv('Datasets/food_truck_data.txt')\n",
    "data1.head()"
   ]
  },
  {
   "cell_type": "markdown",
   "metadata": {},
   "source": [
    "Defined the Cost Function, Gradient Descent and Prediction Function"
   ]
  },
  {
   "cell_type": "code",
   "execution_count": 3,
   "metadata": {},
   "outputs": [],
   "source": [
    "def costFunction(x,y,theta):\n",
    "    n = len(y)\n",
    "    yhat = x.dot(theta)\n",
    "    error = (yhat - y)**2\n",
    "    jtheta = np.sum(error)/(2*y)\n",
    "    return jtheta"
   ]
  },
  {
   "cell_type": "code",
   "execution_count": 14,
   "metadata": {},
   "outputs": [],
   "source": [
    "def gradientDescent(x,y,theta,alpha,iteration):\n",
    "    n = len(y)\n",
    "    costs = []\n",
    "    for i in range(iteration):\n",
    "        yhat = x.dot(theta)\n",
    "        error = np.dot(x.transpose(),(yhat-y))\n",
    "        theta -= (alpha*error)/n\n",
    "        costs.append(costFunction(x,y,theta))\n",
    "    return theta,costs"
   ]
  },
  {
   "cell_type": "code",
   "execution_count": 24,
   "metadata": {},
   "outputs": [],
   "source": [
    "def predict(x, theta):\n",
    " y_pred = np.dot(theta.transpose(), x)\n",
    " return y_pred"
   ]
  },
  {
   "cell_type": "markdown",
   "metadata": {},
   "source": [
    "Setting variables and values for the dataset and reshaping it"
   ]
  },
  {
   "cell_type": "code",
   "execution_count": 5,
   "metadata": {},
   "outputs": [],
   "source": [
    "m = len(data1)\n",
    "x = np.append(np.ones((m, 1)), data1['Population'].values.reshape(m, 1), axis=1)\n",
    "y = data1['Profit'].values.reshape(m, 1)"
   ]
  },
  {
   "cell_type": "code",
   "execution_count": 6,
   "metadata": {},
   "outputs": [
    {
     "name": "stdout",
     "output_type": "stream",
     "text": [
      "(97, 2)\n",
      "(97, 1)\n"
     ]
    }
   ],
   "source": [
    "print(x.shape)\n",
    "print(y.shape)"
   ]
  },
  {
   "cell_type": "code",
   "execution_count": 7,
   "metadata": {},
   "outputs": [],
   "source": [
    "theta = np.zeros((2,1))"
   ]
  },
  {
   "cell_type": "code",
   "execution_count": 11,
   "metadata": {},
   "outputs": [
    {
     "name": "stdout",
     "output_type": "stream",
     "text": [
      "[[  176.84488325]\n",
      " [  340.74337759]\n",
      " [  227.71594101]\n",
      " [  262.44771268]\n",
      " [  455.94583063]\n",
      " [  261.74113967]\n",
      " [  715.46470715]\n",
      " [  259.25459884]\n",
      " [  471.46486219]\n",
      " [  815.13786777]\n",
      " [  956.60020482]\n",
      " [  200.64851249]\n",
      " [  986.04012111]\n",
      " [  430.54820035]\n",
      " [ 4343.95708637]\n",
      " [  885.60880928]\n",
      " [  586.46041059]\n",
      " [ 5547.82742678]\n",
      " [  851.92375982]\n",
      " [  577.26517101]\n",
      " [  991.22385335]\n",
      " [  142.92530832]\n",
      " [  729.78071455]\n",
      " [  599.72148166]\n",
      " [ 1009.26364513]\n",
      " [  137.42623845]\n",
      " [  230.43146331]\n",
      " [  441.49107896]\n",
      " [  211.75164621]\n",
      " [  128.83816566]\n",
      " [-2550.04523452]\n",
      " [  518.80318616]\n",
      " [  256.39155976]\n",
      " [ 1682.10607522]\n",
      " [  475.50747197]\n",
      " [  681.90500101]\n",
      " [  755.77086437]\n",
      " [  916.95802467]\n",
      " [  307.50767877]\n",
      " [  565.91392042]\n",
      " [ 5589.6925564 ]\n",
      " [  795.36116224]\n",
      " [  577.68321501]\n",
      " [ 1274.70916419]\n",
      " [  462.14313944]\n",
      " [ 2973.38735173]\n",
      " [  606.00642541]\n",
      " [ 1687.12320288]\n",
      " [  388.67298653]\n",
      " [ 3056.34658229]\n",
      " [  460.86975381]\n",
      " [ 1691.15850517]\n",
      " [  725.44133989]\n",
      " [  622.4475673 ]\n",
      " [ 2185.80424795]\n",
      " [-2189.18808396]\n",
      " [ 1256.68734291]\n",
      " [  675.69940188]\n",
      " [  785.14415155]\n",
      " [  574.62093166]\n",
      " [  601.82133054]\n",
      " [-4188.33746565]\n",
      " [  173.52084255]\n",
      " [  258.09317953]\n",
      " [  182.42378246]\n",
      " [  636.83271639]\n",
      " [  541.59938479]\n",
      " [  400.11513055]\n",
      " [ 3058.14920487]\n",
      " [  148.20194294]\n",
      " [  465.73379633]\n",
      " [  772.7601744 ]\n",
      " [ 2433.55380641]\n",
      " [  931.14698336]\n",
      " [-1160.53836166]\n",
      " [10482.69824824]\n",
      " [  800.88948027]\n",
      " [  545.66513244]\n",
      " [  460.71960224]\n",
      " [ 1511.98249714]\n",
      " [ 6487.71752782]\n",
      " [15234.58785619]\n",
      " [ 4584.45231593]\n",
      " [  412.41534912]\n",
      " [  582.20210834]\n",
      " [  733.47994486]\n",
      " [  457.63598448]\n",
      " [ 3356.22761326]\n",
      " [20467.46832969]\n",
      " [ 1102.66363724]\n",
      " [ 1686.11738448]\n",
      " [  724.19171445]\n",
      " [  431.91703149]\n",
      " [ 1565.78347482]\n",
      " [21523.83552036]\n",
      " [  343.5693903 ]\n",
      " [ 5041.82025138]]\n"
     ]
    }
   ],
   "source": [
    "jtheta = costFunction(x,y,theta)\n",
    "print(jtheta)"
   ]
  },
  {
   "cell_type": "code",
   "execution_count": 15,
   "metadata": {},
   "outputs": [
    {
     "name": "stdout",
     "output_type": "stream",
     "text": [
      "h(x) = -3.79 + 1.18x1\n"
     ]
    }
   ],
   "source": [
    "theta, costs = gradientDescent(x, y, theta, alpha =0.01, iteration=2000)\n",
    "print(\"h(x) = {} + {}x1\".format(str(round(theta[0, 0], 2)), str(round(theta[1, 0], 2))))"
   ]
  },
  {
   "cell_type": "markdown",
   "metadata": {},
   "source": [
    "Here We get our Equation for the Regression Line where c = -3.79 and m = 1.18"
   ]
  },
  {
   "cell_type": "code",
   "execution_count": 16,
   "metadata": {},
   "outputs": [
    {
     "data": {
      "text/plain": [
       "array([[-3.78806857],\n",
       "       [ 1.18221277]])"
      ]
     },
     "execution_count": 16,
     "metadata": {},
     "output_type": "execute_result"
    }
   ],
   "source": [
    "theta"
   ]
  },
  {
   "cell_type": "code",
   "execution_count": 19,
   "metadata": {},
   "outputs": [
    {
     "data": {
      "text/plain": [
       "array([-3.78806857,  1.18221277])"
      ]
     },
     "execution_count": 19,
     "metadata": {},
     "output_type": "execute_result"
    }
   ],
   "source": [
    "theta = np.squeeze(theta)\n",
    "theta"
   ]
  },
  {
   "cell_type": "code",
   "execution_count": 23,
   "metadata": {},
   "outputs": [
    {
     "name": "stderr",
     "output_type": "stream",
     "text": [
      "C:\\ProgramData\\Anaconda3\\lib\\site-packages\\seaborn\\_decorators.py:36: FutureWarning: Pass the following variables as keyword args: x, y. From version 0.12, the only valid positional argument will be `data`, and passing other arguments without an explicit keyword will result in an error or misinterpretation.\n",
      "  warnings.warn(\n"
     ]
    },
    {
     "data": {
      "image/png": "[encoded data removed]",
      "text/plain": [
       "<Figure size 1600x800 with 1 Axes>"
      ]
     },
     "metadata": {},
     "output_type": "display_data"
    }
   ],
   "source": [
    "plt.figure(figsize=(8,4), dpi=200)\n",
    "plt.scatter(data1.Population, data1.Profit)\n",
    "x_value = [x for x in range(5, 25)]\n",
    "y_value = [(x * theta[1] + theta[0]) for x in x_value]\n",
    "sns.lineplot(x_value,y_value)\n",
    "plt.xlabel(\"Population\")\n",
    "plt.ylabel(\"Profit\")\n",
    "plt.title(\"Linear regression Fit\");\n",
    "plt.show()"
   ]
  },
  {
   "cell_type": "markdown",
   "metadata": {},
   "source": [
    "Here we get our Regression line and it shows that values are positively correlated"
   ]
  },
  {
   "cell_type": "code",
   "execution_count": 25,
   "metadata": {},
   "outputs": [
    {
     "data": {
      "text/plain": [
       "56696.33625335905"
      ]
     },
     "execution_count": 25,
     "metadata": {},
     "output_type": "execute_result"
    }
   ],
   "source": [
    "y_pred_1 = predict(np.array([1, 8]), theta)*10000\n",
    "y_pred_1"
   ]
  },
  {
   "cell_type": "markdown",
   "metadata": {},
   "source": [
    "Creating A Synthetic Dataset"
   ]
  },
  {
   "cell_type": "code",
   "execution_count": 34,
   "metadata": {},
   "outputs": [
    {
     "data": {
      "text/plain": [
       "[<matplotlib.lines.Line2D at 0x1d84e905340>]"
      ]
     },
     "execution_count": 34,
     "metadata": {},
     "output_type": "execute_result"
    },
    {
     "data": {
      "image/png": "[encoded data removed]",
      "text/plain": [
       "<Figure size 432x288 with 1 Axes>"
      ]
     },
     "metadata": {},
     "output_type": "display_data"
    }
   ],
   "source": [
    "x = np.array([i*np.pi/180 for i in range(60,300,4)])\n",
    "np.random.seed(0)  \n",
    "y = np.sin(x) + np.random.normal(0,0.15,len(x))\n",
    "data2 = pd.DataFrame(np.column_stack([x,y]),columns=['x','y'])\n",
    "plt.plot(data2['x'],data2['y'],'.')"
   ]
  },
  {
   "cell_type": "code",
   "execution_count": 27,
   "metadata": {},
   "outputs": [
    {
     "data": {
      "text/plain": [
       "array([[   18.90844599],\n",
       "       [   22.29675096],\n",
       "       [   19.90561108],\n",
       "       [   16.60866664],\n",
       "       [   17.0969408 ],\n",
       "       [   25.50478163],\n",
       "       [   18.80198488],\n",
       "       [   21.88880621],\n",
       "       [   21.72816754],\n",
       "       [   20.24266794],\n",
       "       [   21.24226384],\n",
       "       [   17.98877207],\n",
       "       [   20.06972728],\n",
       "       [   22.61235879],\n",
       "       [   22.14533252],\n",
       "       [   23.33704294],\n",
       "       [   20.29960533],\n",
       "       [   28.23226738],\n",
       "       [   27.05781937],\n",
       "       [   37.73496408],\n",
       "       [   82.27597303],\n",
       "       [   31.17183398],\n",
       "       [   32.41208907],\n",
       "       [   59.69205162],\n",
       "       [   28.61151302],\n",
       "       [  172.59490116],\n",
       "       [   75.67586577],\n",
       "       [  118.87910174],\n",
       "       [   57.92223802],\n",
       "       [   73.6783035 ],\n",
       "       [  919.81813647],\n",
       "       [-1640.45125014],\n",
       "       [  -78.49909029],\n",
       "       [  -42.33108668],\n",
       "       [  -65.21336519],\n",
       "       [  -67.10821995],\n",
       "       [  -96.215965  ],\n",
       "       [  -73.94479188],\n",
       "       [  -36.35689286],\n",
       "       [  -33.76635984],\n",
       "       [  -26.72079073],\n",
       "       [  -23.55341522],\n",
       "       [  -21.39808953],\n",
       "       [  -43.15453695],\n",
       "       [  -23.61000835],\n",
       "       [  -22.94480975],\n",
       "       [  -19.67263754],\n",
       "       [  -26.37498755],\n",
       "       [  -17.91784407],\n",
       "       [  -21.3314443 ],\n",
       "       [  -19.10283978],\n",
       "       [  -22.82843093],\n",
       "       [  -19.86829687],\n",
       "       [  -18.17150746],\n",
       "       [  -21.40529096],\n",
       "       [  -23.22343458],\n",
       "       [  -22.26191186],\n",
       "       [  -23.60478597],\n",
       "       [  -20.9115183 ],\n",
       "       [  -22.42803268]])"
      ]
     },
     "execution_count": 27,
     "metadata": {},
     "output_type": "execute_result"
    }
   ],
   "source": [
    "m = data2.x.size\n",
    "x_in = np.append(np.ones((m, 1)), data2.x.values.reshape(m, 1), axis=1)\n",
    "y_in = data2.y.values.reshape (m, 1)\n",
    "theta = (np.zeros((2,1)))\n",
    "costFunction(x_in, y_in, theta)"
   ]
  },
  {
   "cell_type": "code",
   "execution_count": 30,
   "metadata": {},
   "outputs": [
    {
     "name": "stdout",
     "output_type": "stream",
     "text": [
      "h(x) = 2.1 + -0.67x1\n"
     ]
    }
   ],
   "source": [
    "theta, costs = gradientDescent(x_in, y_in, theta, alpha =0.01, iteration=2000)\n",
    "print(\"h(x) = {} + {}x1\".format(str(round(theta[0, 0], 2)), str(round(theta[1, 0], 2))))"
   ]
  },
  {
   "cell_type": "markdown",
   "metadata": {},
   "source": [
    "Here we get the equation of our Regression Line"
   ]
  },
  {
   "cell_type": "code",
   "execution_count": 32,
   "metadata": {},
   "outputs": [
    {
     "name": "stderr",
     "output_type": "stream",
     "text": [
      "C:\\ProgramData\\Anaconda3\\lib\\site-packages\\seaborn\\_decorators.py:36: FutureWarning: Pass the following variables as keyword args: x, y. From version 0.12, the only valid positional argument will be `data`, and passing other arguments without an explicit keyword will result in an error or misinterpretation.\n",
      "  warnings.warn(\n"
     ]
    },
    {
     "data": {
      "text/plain": [
       "Text(0.5, 1.0, 'Linear regression Fit')"
      ]
     },
     "execution_count": 32,
     "metadata": {},
     "output_type": "execute_result"
    },
    {
     "data": {
      "image/png": "[encoded data removed]",
      "text/plain": [
       "<Figure size 432x288 with 1 Axes>"
      ]
     },
     "metadata": {},
     "output_type": "display_data"
    }
   ],
   "source": [
    "theta = np.squeeze(theta)\n",
    "\n",
    "sns.scatterplot(x = \"x_cr\", y = \"y_cr\", data = data2)\n",
    "\n",
    "x_value = [x for x in range(1, 6)]\n",
    "y_value = [(x * theta[1] + theta[0]) for x in x_value]\n",
    "\n",
    "sns.lineplot(x_value, y_value)\n",
    "\n",
    "plt.xlabel(\"X\")\n",
    "plt.ylabel(\"sin(X)\")\n",
    "plt.title(\"Linear regression Fit\")"
   ]
  },
  {
   "cell_type": "markdown",
   "metadata": {},
   "source": [
    "Here we get our Regression line and it shows that values are negatively correlated"
   ]
  },
  {
   "cell_type": "code",
   "execution_count": 33,
   "metadata": {},
   "outputs": [
    {
     "data": {
      "text/plain": [
       "0.7619921330003427"
      ]
     },
     "execution_count": 33,
     "metadata": {},
     "output_type": "execute_result"
    }
   ],
   "source": [
    "y_pred_cr = predict(np.array([1, 2]), theta)\n",
    "y_pred_cr"
   ]
  },
  {
   "cell_type": "markdown",
   "metadata": {},
   "source": [
    "**Lasso And Ridge Regression**"
   ]
  },
  {
   "cell_type": "code",
   "execution_count": 36,
   "metadata": {},
   "outputs": [],
   "source": [
    "from sklearn.linear_model import LinearRegression\n",
    "from sklearn.linear_model import Ridge \n",
    "from sklearn.linear_model import Lasso "
   ]
  },
  {
   "cell_type": "code",
   "execution_count": 53,
   "metadata": {},
   "outputs": [
    {
     "data": {
      "text/plain": [
       "<Figure size 864x576 with 0 Axes>"
      ]
     },
     "execution_count": 53,
     "metadata": {},
     "output_type": "execute_result"
    },
    {
     "data": {
      "text/plain": [
       "<Figure size 864x576 with 0 Axes>"
      ]
     },
     "metadata": {},
     "output_type": "display_data"
    }
   ],
   "source": [
    "plt.figure(figsize=(12,8))"
   ]
  },
  {
   "cell_type": "code",
   "execution_count": 54,
   "metadata": {},
   "outputs": [
    {
     "name": "stdout",
     "output_type": "stream",
     "text": [
      "    x    y  x_2  x_3  x_4  x_5  x_6  x_7  x_8  x_9  x_10  x_11  x_12  x_13  \\\n",
      "0   1  1.1  1.1  1.1  1.2  1.3  1.3  1.4  1.4  1.5   1.6   1.7   1.7   1.8   \n",
      "1 1.1 0.96  1.2  1.4  1.6  1.7  1.9  2.2  2.4  2.7     3   3.4   3.8   4.2   \n",
      "2 1.2  1.1  1.4  1.7    2  2.4  2.8  3.3  3.9  4.7   5.5   6.6   7.8   9.3   \n",
      "3 1.3  1.3  1.6    2  2.5  3.1  3.9  4.9  6.2  7.8   9.8    12    16    19   \n",
      "4 1.3  1.3  1.8  2.3  3.1  4.1  5.4  7.2  9.6   13    17    22    30    39   \n",
      "\n",
      "   x_14  x_15  \n",
      "0   1.9     2  \n",
      "1   4.7   5.3  \n",
      "2    11    13  \n",
      "3    24    31  \n",
      "4    52    69  \n"
     ]
    },
    {
     "data": {
      "text/plain": [
       "Text(0.5, 1.0, 'X vs Y')"
      ]
     },
     "execution_count": 54,
     "metadata": {},
     "output_type": "execute_result"
    },
    {
     "data": {
      "image/png": "[encoded data removed]",
      "text/plain": [
       "<Figure size 432x288 with 1 Axes>"
      ]
     },
     "metadata": {},
     "output_type": "display_data"
    }
   ],
   "source": [
    "x = np.array([i*np.pi/180 for i in range(60,300,4)])\n",
    "np.random.seed(0)\n",
    "y = np.sin(x) + np.random.normal(0,0.15,len(x))\n",
    "data1 = pd.DataFrame(np.column_stack([x,y]),columns=['x','y'])\n",
    "for i in range(2,16):\n",
    "    colname = 'x_%d'%i\n",
    "    data1[colname] = data1['x']**i\n",
    "print(data1.head())\n",
    "ax = sns.scatterplot(x = \"x\", y = \"y\", data = data1)\n",
    "ax.set_title(\"X vs Y\")"
   ]
  },
  {
   "cell_type": "markdown",
   "metadata": {},
   "source": [
    "Apply Linear Regression to the created synthetic Dataset"
   ]
  },
  {
   "cell_type": "code",
   "execution_count": 55,
   "metadata": {},
   "outputs": [],
   "source": [
    "def linear_regression(data, power, models_to_plot):\n",
    "    predictors=['x']\n",
    "    if power>=2:\n",
    "        predictors.extend(['x_%d'%i for i in range(2,power+1)])\n",
    "    lr = LinearRegression(normalize=True)\n",
    "    lr.fit(data[predictors],data['y'])\n",
    "    y_pred = lr.predict(data[predictors])\n",
    "    if power in models_to_plot:\n",
    "        plt.subplot(models_to_plot[power])\n",
    "        plt.tight_layout()\n",
    "        plt.plot(data['x'],y_pred)\n",
    "        plt.plot(data['x'],data['y'],'.')\n",
    "        plt.title('Plot for power: %d'%power)\n",
    "    rss = sum((y_pred-data['y'])**2)\n",
    "    ret = [rss]\n",
    "    ret.extend([lr.intercept_])\n",
    "    ret.extend(lr.coef_)\n",
    "    return ret"
   ]
  },
  {
   "cell_type": "code",
   "execution_count": 56,
   "metadata": {},
   "outputs": [
    {
     "data": {
      "image/png": "[encoded data removed]",
      "text/plain": [
       "<Figure size 432x288 with 6 Axes>"
      ]
     },
     "metadata": {},
     "output_type": "display_data"
    }
   ],
   "source": [
    "col = ['rss','intercept'] + ['coef_x_%d'%i for i in range(1,16)]\n",
    "ind = ['model_pow_%d'%i for i in range(1,16)]\n",
    "coef_matrix_simple = pd.DataFrame(index=ind, columns=col)\n",
    "models_to_plot = {1:231,3:232,6:233,9:234,12:235,15:236}\n",
    "for i in range(1,16):\n",
    "    coef_matrix_simple.iloc[i-1,0:i+2] = linear_regression(data1, power=i, models_to_plot=models_to_plot)"
   ]
  },
  {
   "cell_type": "code",
   "execution_count": 41,
   "metadata": {},
   "outputs": [
    {
     "data": {
      "text/html": [
       "<div>\n",
       "<style scoped>\n",
       "    .dataframe tbody tr th:only-of-type {\n",
       "        vertical-align: middle;\n",
       "    }\n",
       "\n",
       "    .dataframe tbody tr th {\n",
       "        vertical-align: top;\n",
       "    }\n",
       "\n",
       "    .dataframe thead th {\n",
       "        text-align: right;\n",
       "    }\n",
       "</style>\n",
       "<table border=\"1\" class=\"dataframe\">\n",
       "  <thead>\n",
       "    <tr style=\"text-align: right;\">\n",
       "      <th></th>\n",
       "      <th>rss</th>\n",
       "      <th>intercept</th>\n",
       "      <th>coef_x_1</th>\n",
       "      <th>coef_x_2</th>\n",
       "      <th>coef_x_3</th>\n",
       "      <th>coef_x_4</th>\n",
       "      <th>coef_x_5</th>\n",
       "      <th>coef_x_6</th>\n",
       "      <th>coef_x_7</th>\n",
       "      <th>coef_x_8</th>\n",
       "      <th>coef_x_9</th>\n",
       "      <th>coef_x_10</th>\n",
       "      <th>coef_x_11</th>\n",
       "      <th>coef_x_12</th>\n",
       "      <th>coef_x_13</th>\n",
       "      <th>coef_x_14</th>\n",
       "      <th>coef_x_15</th>\n",
       "    </tr>\n",
       "  </thead>\n",
       "  <tbody>\n",
       "    <tr>\n",
       "      <th>model_pow_1</th>\n",
       "      <td>3.2</td>\n",
       "      <td>2.1</td>\n",
       "      <td>-0.67</td>\n",
       "      <td>NaN</td>\n",
       "      <td>NaN</td>\n",
       "      <td>NaN</td>\n",
       "      <td>NaN</td>\n",
       "      <td>NaN</td>\n",
       "      <td>NaN</td>\n",
       "      <td>NaN</td>\n",
       "      <td>NaN</td>\n",
       "      <td>NaN</td>\n",
       "      <td>NaN</td>\n",
       "      <td>NaN</td>\n",
       "      <td>NaN</td>\n",
       "      <td>NaN</td>\n",
       "      <td>NaN</td>\n",
       "    </tr>\n",
       "    <tr>\n",
       "      <th>model_pow_2</th>\n",
       "      <td>3.2</td>\n",
       "      <td>2.2</td>\n",
       "      <td>-0.7</td>\n",
       "      <td>0.0054</td>\n",
       "      <td>NaN</td>\n",
       "      <td>NaN</td>\n",
       "      <td>NaN</td>\n",
       "      <td>NaN</td>\n",
       "      <td>NaN</td>\n",
       "      <td>NaN</td>\n",
       "      <td>NaN</td>\n",
       "      <td>NaN</td>\n",
       "      <td>NaN</td>\n",
       "      <td>NaN</td>\n",
       "      <td>NaN</td>\n",
       "      <td>NaN</td>\n",
       "      <td>NaN</td>\n",
       "    </tr>\n",
       "    <tr>\n",
       "      <th>model_pow_3</th>\n",
       "      <td>1.3</td>\n",
       "      <td>-0.62</td>\n",
       "      <td>2.6</td>\n",
       "      <td>-1.2</td>\n",
       "      <td>0.13</td>\n",
       "      <td>NaN</td>\n",
       "      <td>NaN</td>\n",
       "      <td>NaN</td>\n",
       "      <td>NaN</td>\n",
       "      <td>NaN</td>\n",
       "      <td>NaN</td>\n",
       "      <td>NaN</td>\n",
       "      <td>NaN</td>\n",
       "      <td>NaN</td>\n",
       "      <td>NaN</td>\n",
       "      <td>NaN</td>\n",
       "      <td>NaN</td>\n",
       "    </tr>\n",
       "    <tr>\n",
       "      <th>model_pow_4</th>\n",
       "      <td>1.3</td>\n",
       "      <td>0.22</td>\n",
       "      <td>1.3</td>\n",
       "      <td>-0.41</td>\n",
       "      <td>-0.05</td>\n",
       "      <td>0.014</td>\n",
       "      <td>NaN</td>\n",
       "      <td>NaN</td>\n",
       "      <td>NaN</td>\n",
       "      <td>NaN</td>\n",
       "      <td>NaN</td>\n",
       "      <td>NaN</td>\n",
       "      <td>NaN</td>\n",
       "      <td>NaN</td>\n",
       "      <td>NaN</td>\n",
       "      <td>NaN</td>\n",
       "      <td>NaN</td>\n",
       "    </tr>\n",
       "    <tr>\n",
       "      <th>model_pow_5</th>\n",
       "      <td>1.3</td>\n",
       "      <td>1.8</td>\n",
       "      <td>-2.1</td>\n",
       "      <td>2.2</td>\n",
       "      <td>-0.98</td>\n",
       "      <td>0.17</td>\n",
       "      <td>-0.01</td>\n",
       "      <td>NaN</td>\n",
       "      <td>NaN</td>\n",
       "      <td>NaN</td>\n",
       "      <td>NaN</td>\n",
       "      <td>NaN</td>\n",
       "      <td>NaN</td>\n",
       "      <td>NaN</td>\n",
       "      <td>NaN</td>\n",
       "      <td>NaN</td>\n",
       "      <td>NaN</td>\n",
       "    </tr>\n",
       "    <tr>\n",
       "      <th>model_pow_6</th>\n",
       "      <td>1.3</td>\n",
       "      <td>-1</td>\n",
       "      <td>5.1</td>\n",
       "      <td>-4.9</td>\n",
       "      <td>2.5</td>\n",
       "      <td>-0.75</td>\n",
       "      <td>0.11</td>\n",
       "      <td>-0.0067</td>\n",
       "      <td>NaN</td>\n",
       "      <td>NaN</td>\n",
       "      <td>NaN</td>\n",
       "      <td>NaN</td>\n",
       "      <td>NaN</td>\n",
       "      <td>NaN</td>\n",
       "      <td>NaN</td>\n",
       "      <td>NaN</td>\n",
       "      <td>NaN</td>\n",
       "    </tr>\n",
       "    <tr>\n",
       "      <th>model_pow_7</th>\n",
       "      <td>1.2</td>\n",
       "      <td>7.8</td>\n",
       "      <td>-21</td>\n",
       "      <td>26</td>\n",
       "      <td>-17</td>\n",
       "      <td>6.4</td>\n",
       "      <td>-1.4</td>\n",
       "      <td>0.16</td>\n",
       "      <td>-0.0076</td>\n",
       "      <td>NaN</td>\n",
       "      <td>NaN</td>\n",
       "      <td>NaN</td>\n",
       "      <td>NaN</td>\n",
       "      <td>NaN</td>\n",
       "      <td>NaN</td>\n",
       "      <td>NaN</td>\n",
       "      <td>NaN</td>\n",
       "    </tr>\n",
       "    <tr>\n",
       "      <th>model_pow_8</th>\n",
       "      <td>1.2</td>\n",
       "      <td>7.9</td>\n",
       "      <td>-21</td>\n",
       "      <td>27</td>\n",
       "      <td>-18</td>\n",
       "      <td>6.7</td>\n",
       "      <td>-1.5</td>\n",
       "      <td>0.17</td>\n",
       "      <td>-0.0088</td>\n",
       "      <td>4.7e-05</td>\n",
       "      <td>NaN</td>\n",
       "      <td>NaN</td>\n",
       "      <td>NaN</td>\n",
       "      <td>NaN</td>\n",
       "      <td>NaN</td>\n",
       "      <td>NaN</td>\n",
       "      <td>NaN</td>\n",
       "    </tr>\n",
       "    <tr>\n",
       "      <th>model_pow_9</th>\n",
       "      <td>1.2</td>\n",
       "      <td>-0.67</td>\n",
       "      <td>11</td>\n",
       "      <td>-27</td>\n",
       "      <td>31</td>\n",
       "      <td>-21</td>\n",
       "      <td>8.6</td>\n",
       "      <td>-2.2</td>\n",
       "      <td>0.34</td>\n",
       "      <td>-0.029</td>\n",
       "      <td>0.001</td>\n",
       "      <td>NaN</td>\n",
       "      <td>NaN</td>\n",
       "      <td>NaN</td>\n",
       "      <td>NaN</td>\n",
       "      <td>NaN</td>\n",
       "      <td>NaN</td>\n",
       "    </tr>\n",
       "    <tr>\n",
       "      <th>model_pow_10</th>\n",
       "      <td>1.2</td>\n",
       "      <td>-2.5e+02</td>\n",
       "      <td>1.1e+03</td>\n",
       "      <td>-2e+03</td>\n",
       "      <td>2.1e+03</td>\n",
       "      <td>-1.4e+03</td>\n",
       "      <td>6.3e+02</td>\n",
       "      <td>-1.9e+02</td>\n",
       "      <td>37</td>\n",
       "      <td>-4.7</td>\n",
       "      <td>0.34</td>\n",
       "      <td>-0.011</td>\n",
       "      <td>NaN</td>\n",
       "      <td>NaN</td>\n",
       "      <td>NaN</td>\n",
       "      <td>NaN</td>\n",
       "      <td>NaN</td>\n",
       "    </tr>\n",
       "    <tr>\n",
       "      <th>model_pow_11</th>\n",
       "      <td>1.2</td>\n",
       "      <td>-5.4e+02</td>\n",
       "      <td>2.4e+03</td>\n",
       "      <td>-4.8e+03</td>\n",
       "      <td>5.4e+03</td>\n",
       "      <td>-4e+03</td>\n",
       "      <td>2e+03</td>\n",
       "      <td>-6.8e+02</td>\n",
       "      <td>1.6e+02</td>\n",
       "      <td>-26</td>\n",
       "      <td>2.8</td>\n",
       "      <td>-0.17</td>\n",
       "      <td>0.0046</td>\n",
       "      <td>NaN</td>\n",
       "      <td>NaN</td>\n",
       "      <td>NaN</td>\n",
       "      <td>NaN</td>\n",
       "    </tr>\n",
       "    <tr>\n",
       "      <th>model_pow_12</th>\n",
       "      <td>1.2</td>\n",
       "      <td>1.1e+03</td>\n",
       "      <td>-5.7e+03</td>\n",
       "      <td>1.4e+04</td>\n",
       "      <td>-1.9e+04</td>\n",
       "      <td>1.8e+04</td>\n",
       "      <td>-1.1e+04</td>\n",
       "      <td>5e+03</td>\n",
       "      <td>-1.6e+03</td>\n",
       "      <td>3.6e+02</td>\n",
       "      <td>-56</td>\n",
       "      <td>5.7</td>\n",
       "      <td>-0.35</td>\n",
       "      <td>0.0095</td>\n",
       "      <td>NaN</td>\n",
       "      <td>NaN</td>\n",
       "      <td>NaN</td>\n",
       "    </tr>\n",
       "    <tr>\n",
       "      <th>model_pow_13</th>\n",
       "      <td>1.2</td>\n",
       "      <td>6.8e+03</td>\n",
       "      <td>-3.7e+04</td>\n",
       "      <td>9.3e+04</td>\n",
       "      <td>-1.4e+05</td>\n",
       "      <td>1.3e+05</td>\n",
       "      <td>-9.1e+04</td>\n",
       "      <td>4.5e+04</td>\n",
       "      <td>-1.6e+04</td>\n",
       "      <td>4.2e+03</td>\n",
       "      <td>-8e+02</td>\n",
       "      <td>1.1e+02</td>\n",
       "      <td>-9.6</td>\n",
       "      <td>0.51</td>\n",
       "      <td>-0.012</td>\n",
       "      <td>NaN</td>\n",
       "      <td>NaN</td>\n",
       "    </tr>\n",
       "    <tr>\n",
       "      <th>model_pow_14</th>\n",
       "      <td>1.1</td>\n",
       "      <td>2.6e+04</td>\n",
       "      <td>-1.5e+05</td>\n",
       "      <td>4e+05</td>\n",
       "      <td>-6.4e+05</td>\n",
       "      <td>6.8e+05</td>\n",
       "      <td>-5.1e+05</td>\n",
       "      <td>2.8e+05</td>\n",
       "      <td>-1.2e+05</td>\n",
       "      <td>3.6e+04</td>\n",
       "      <td>-8.3e+03</td>\n",
       "      <td>1.4e+03</td>\n",
       "      <td>-1.7e+02</td>\n",
       "      <td>14</td>\n",
       "      <td>-0.68</td>\n",
       "      <td>0.015</td>\n",
       "      <td>NaN</td>\n",
       "    </tr>\n",
       "    <tr>\n",
       "      <th>model_pow_15</th>\n",
       "      <td>1.1</td>\n",
       "      <td>1.9e+04</td>\n",
       "      <td>-1.1e+05</td>\n",
       "      <td>2.7e+05</td>\n",
       "      <td>-4e+05</td>\n",
       "      <td>4e+05</td>\n",
       "      <td>-2.7e+05</td>\n",
       "      <td>1.3e+05</td>\n",
       "      <td>-4.4e+04</td>\n",
       "      <td>9.5e+03</td>\n",
       "      <td>-9.2e+02</td>\n",
       "      <td>-1.5e+02</td>\n",
       "      <td>73</td>\n",
       "      <td>-13</td>\n",
       "      <td>1.4</td>\n",
       "      <td>-0.082</td>\n",
       "      <td>0.0021</td>\n",
       "    </tr>\n",
       "  </tbody>\n",
       "</table>\n",
       "</div>"
      ],
      "text/plain": [
       "             rss intercept coef_x_1 coef_x_2 coef_x_3 coef_x_4 coef_x_5  \\\n",
       "model_pow_1  3.2       2.1    -0.67      NaN      NaN      NaN      NaN   \n",
       "model_pow_2  3.2       2.2     -0.7   0.0054      NaN      NaN      NaN   \n",
       "model_pow_3  1.3     -0.62      2.6     -1.2     0.13      NaN      NaN   \n",
       "model_pow_4  1.3      0.22      1.3    -0.41    -0.05    0.014      NaN   \n",
       "model_pow_5  1.3       1.8     -2.1      2.2    -0.98     0.17    -0.01   \n",
       "model_pow_6  1.3        -1      5.1     -4.9      2.5    -0.75     0.11   \n",
       "model_pow_7  1.2       7.8      -21       26      -17      6.4     -1.4   \n",
       "model_pow_8  1.2       7.9      -21       27      -18      6.7     -1.5   \n",
       "model_pow_9  1.2     -0.67       11      -27       31      -21      8.6   \n",
       "model_pow_10 1.2  -2.5e+02  1.1e+03   -2e+03  2.1e+03 -1.4e+03  6.3e+02   \n",
       "model_pow_11 1.2  -5.4e+02  2.4e+03 -4.8e+03  5.4e+03   -4e+03    2e+03   \n",
       "model_pow_12 1.2   1.1e+03 -5.7e+03  1.4e+04 -1.9e+04  1.8e+04 -1.1e+04   \n",
       "model_pow_13 1.2   6.8e+03 -3.7e+04  9.3e+04 -1.4e+05  1.3e+05 -9.1e+04   \n",
       "model_pow_14 1.1   2.6e+04 -1.5e+05    4e+05 -6.4e+05  6.8e+05 -5.1e+05   \n",
       "model_pow_15 1.1   1.9e+04 -1.1e+05  2.7e+05   -4e+05    4e+05 -2.7e+05   \n",
       "\n",
       "             coef_x_6 coef_x_7 coef_x_8 coef_x_9 coef_x_10 coef_x_11  \\\n",
       "model_pow_1       NaN      NaN      NaN      NaN       NaN       NaN   \n",
       "model_pow_2       NaN      NaN      NaN      NaN       NaN       NaN   \n",
       "model_pow_3       NaN      NaN      NaN      NaN       NaN       NaN   \n",
       "model_pow_4       NaN      NaN      NaN      NaN       NaN       NaN   \n",
       "model_pow_5       NaN      NaN      NaN      NaN       NaN       NaN   \n",
       "model_pow_6   -0.0067      NaN      NaN      NaN       NaN       NaN   \n",
       "model_pow_7      0.16  -0.0076      NaN      NaN       NaN       NaN   \n",
       "model_pow_8      0.17  -0.0088  4.7e-05      NaN       NaN       NaN   \n",
       "model_pow_9      -2.2     0.34   -0.029    0.001       NaN       NaN   \n",
       "model_pow_10 -1.9e+02       37     -4.7     0.34    -0.011       NaN   \n",
       "model_pow_11 -6.8e+02  1.6e+02      -26      2.8     -0.17    0.0046   \n",
       "model_pow_12    5e+03 -1.6e+03  3.6e+02      -56       5.7     -0.35   \n",
       "model_pow_13  4.5e+04 -1.6e+04  4.2e+03   -8e+02   1.1e+02      -9.6   \n",
       "model_pow_14  2.8e+05 -1.2e+05  3.6e+04 -8.3e+03   1.4e+03  -1.7e+02   \n",
       "model_pow_15  1.3e+05 -4.4e+04  9.5e+03 -9.2e+02  -1.5e+02        73   \n",
       "\n",
       "             coef_x_12 coef_x_13 coef_x_14 coef_x_15  \n",
       "model_pow_1        NaN       NaN       NaN       NaN  \n",
       "model_pow_2        NaN       NaN       NaN       NaN  \n",
       "model_pow_3        NaN       NaN       NaN       NaN  \n",
       "model_pow_4        NaN       NaN       NaN       NaN  \n",
       "model_pow_5        NaN       NaN       NaN       NaN  \n",
       "model_pow_6        NaN       NaN       NaN       NaN  \n",
       "model_pow_7        NaN       NaN       NaN       NaN  \n",
       "model_pow_8        NaN       NaN       NaN       NaN  \n",
       "model_pow_9        NaN       NaN       NaN       NaN  \n",
       "model_pow_10       NaN       NaN       NaN       NaN  \n",
       "model_pow_11       NaN       NaN       NaN       NaN  \n",
       "model_pow_12    0.0095       NaN       NaN       NaN  \n",
       "model_pow_13      0.51    -0.012       NaN       NaN  \n",
       "model_pow_14        14     -0.68     0.015       NaN  \n",
       "model_pow_15       -13       1.4    -0.082    0.0021  "
      ]
     },
     "execution_count": 41,
     "metadata": {},
     "output_type": "execute_result"
    }
   ],
   "source": [
    "pd.options.display.float_format = '{:,.2g}'.format\n",
    "coef_matrix_simple"
   ]
  },
  {
   "cell_type": "markdown",
   "metadata": {},
   "source": [
    "RIDGE REGRESSION"
   ]
  },
  {
   "cell_type": "code",
   "execution_count": 42,
   "metadata": {},
   "outputs": [],
   "source": [
    "def ridge_regression(data, predictors, alpha, models_to_plot={}):\n",
    "    RidgeModel = Ridge(alpha=alpha,normalize=True)\n",
    "    RidgeModel.fit(data[predictors],data['y'])\n",
    "    y_pred = RidgeModel.predict(data[predictors])\n",
    "    if alpha in models_to_plot:\n",
    "        plt.subplot(models_to_plot[alpha])\n",
    "        plt.tight_layout()\n",
    "        plt.plot(data['x'],y_pred)\n",
    "        plt.plot(data['x'],data['y'],'.')\n",
    "        plt.title('Plot for alpha: %.3g'%alpha)\n",
    "    rss = sum((y_pred-data['y'])**2)\n",
    "    ret = [rss]\n",
    "    ret.extend([RidgeModel.intercept_])\n",
    "    ret.extend(RidgeModel.coef_)\n",
    "    return ret"
   ]
  },
  {
   "cell_type": "code",
   "execution_count": 43,
   "metadata": {},
   "outputs": [
    {
     "name": "stderr",
     "output_type": "stream",
     "text": [
      "C:\\ProgramData\\Anaconda3\\lib\\site-packages\\sklearn\\linear_model\\_ridge.py:147: LinAlgWarning: Ill-conditioned matrix (rcond=3.94081e-17): result may not be accurate.\n",
      "  return linalg.solve(A, Xy, sym_pos=True,\n"
     ]
    },
    {
     "data": {
      "image/png": "[encoded data removed]",
      "text/plain": [
       "<Figure size 432x288 with 6 Axes>"
      ]
     },
     "metadata": {},
     "output_type": "display_data"
    }
   ],
   "source": [
    "predictors=['x']\n",
    "predictors.extend(['x_%d'%i for i in range(2,16)])\n",
    "\n",
    "alpha_ridge = [1e-15, 1e-10, 1e-8, 1e-4, 1e-3,1e-2, 1, 5, 10, 20]\n",
    "\n",
    "col = ['rss','intercept'] + ['coef_x_%d'%i for i in range(1,16)]\n",
    "ind = ['alpha_%.2g'%alpha_ridge[i] for i in range(0,10)]\n",
    "coef_matrix_ridge = pd.DataFrame(index=ind, columns=col)\n",
    "\n",
    "models_to_plot = {1e-15:231, 1e-10:232, 1e-4:233, 1e-3:234, 1e-2:235, 5:236}\n",
    "for i in range(10):\n",
    "    coef_matrix_ridge.iloc[i,] = ridge_regression(data1, predictors, alpha_ridge[i], models_to_plot)"
   ]
  },
  {
   "cell_type": "code",
   "execution_count": 44,
   "metadata": {},
   "outputs": [
    {
     "data": {
      "text/html": [
       "<div>\n",
       "<style scoped>\n",
       "    .dataframe tbody tr th:only-of-type {\n",
       "        vertical-align: middle;\n",
       "    }\n",
       "\n",
       "    .dataframe tbody tr th {\n",
       "        vertical-align: top;\n",
       "    }\n",
       "\n",
       "    .dataframe thead th {\n",
       "        text-align: right;\n",
       "    }\n",
       "</style>\n",
       "<table border=\"1\" class=\"dataframe\">\n",
       "  <thead>\n",
       "    <tr style=\"text-align: right;\">\n",
       "      <th></th>\n",
       "      <th>rss</th>\n",
       "      <th>intercept</th>\n",
       "      <th>coef_x_1</th>\n",
       "      <th>coef_x_2</th>\n",
       "      <th>coef_x_3</th>\n",
       "      <th>coef_x_4</th>\n",
       "      <th>coef_x_5</th>\n",
       "      <th>coef_x_6</th>\n",
       "      <th>coef_x_7</th>\n",
       "      <th>coef_x_8</th>\n",
       "      <th>coef_x_9</th>\n",
       "      <th>coef_x_10</th>\n",
       "      <th>coef_x_11</th>\n",
       "      <th>coef_x_12</th>\n",
       "      <th>coef_x_13</th>\n",
       "      <th>coef_x_14</th>\n",
       "      <th>coef_x_15</th>\n",
       "    </tr>\n",
       "  </thead>\n",
       "  <tbody>\n",
       "    <tr>\n",
       "      <th>alpha_1e-15</th>\n",
       "      <td>1.2</td>\n",
       "      <td>-1.7e+02</td>\n",
       "      <td>6.6e+02</td>\n",
       "      <td>-1.1e+03</td>\n",
       "      <td>9.2e+02</td>\n",
       "      <td>-4.4e+02</td>\n",
       "      <td>1e+02</td>\n",
       "      <td>-0.89</td>\n",
       "      <td>-4.4</td>\n",
       "      <td>0.38</td>\n",
       "      <td>0.15</td>\n",
       "      <td>-0.01</td>\n",
       "      <td>-0.0064</td>\n",
       "      <td>0.00028</td>\n",
       "      <td>0.0003</td>\n",
       "      <td>-5.1e-05</td>\n",
       "      <td>2.5e-06</td>\n",
       "    </tr>\n",
       "    <tr>\n",
       "      <th>alpha_1e-10</th>\n",
       "      <td>1.2</td>\n",
       "      <td>4.4</td>\n",
       "      <td>-9.5</td>\n",
       "      <td>10</td>\n",
       "      <td>-4.9</td>\n",
       "      <td>0.8</td>\n",
       "      <td>0.094</td>\n",
       "      <td>-0.027</td>\n",
       "      <td>-0.005</td>\n",
       "      <td>0.00048</td>\n",
       "      <td>0.00025</td>\n",
       "      <td>1.9e-05</td>\n",
       "      <td>-6.9e-06</td>\n",
       "      <td>-1.8e-06</td>\n",
       "      <td>4.4e-08</td>\n",
       "      <td>9.6e-08</td>\n",
       "      <td>-9.4e-09</td>\n",
       "    </tr>\n",
       "    <tr>\n",
       "      <th>alpha_1e-08</th>\n",
       "      <td>1.3</td>\n",
       "      <td>0.96</td>\n",
       "      <td>-0.18</td>\n",
       "      <td>0.56</td>\n",
       "      <td>-0.29</td>\n",
       "      <td>0.012</td>\n",
       "      <td>0.0076</td>\n",
       "      <td>0.00031</td>\n",
       "      <td>-0.00015</td>\n",
       "      <td>-2.9e-05</td>\n",
       "      <td>-1e-06</td>\n",
       "      <td>4.8e-07</td>\n",
       "      <td>1e-07</td>\n",
       "      <td>1.2e-08</td>\n",
       "      <td>1.7e-09</td>\n",
       "      <td>3.1e-10</td>\n",
       "      <td>-2.1e-10</td>\n",
       "    </tr>\n",
       "    <tr>\n",
       "      <th>alpha_0.0001</th>\n",
       "      <td>1.3</td>\n",
       "      <td>0.83</td>\n",
       "      <td>0.45</td>\n",
       "      <td>-0.15</td>\n",
       "      <td>-0.025</td>\n",
       "      <td>-0.002</td>\n",
       "      <td>9e-05</td>\n",
       "      <td>7.2e-05</td>\n",
       "      <td>1.7e-05</td>\n",
       "      <td>3.1e-06</td>\n",
       "      <td>4.6e-07</td>\n",
       "      <td>5.4e-08</td>\n",
       "      <td>3.8e-09</td>\n",
       "      <td>-4.2e-10</td>\n",
       "      <td>-2.7e-10</td>\n",
       "      <td>-8.3e-11</td>\n",
       "      <td>-2.1e-11</td>\n",
       "    </tr>\n",
       "    <tr>\n",
       "      <th>alpha_0.001</th>\n",
       "      <td>1.3</td>\n",
       "      <td>1.1</td>\n",
       "      <td>0.15</td>\n",
       "      <td>-0.087</td>\n",
       "      <td>-0.018</td>\n",
       "      <td>-0.0022</td>\n",
       "      <td>-0.00013</td>\n",
       "      <td>2.4e-05</td>\n",
       "      <td>1.1e-05</td>\n",
       "      <td>2.8e-06</td>\n",
       "      <td>5.5e-07</td>\n",
       "      <td>9.2e-08</td>\n",
       "      <td>1.2e-08</td>\n",
       "      <td>9.9e-10</td>\n",
       "      <td>-1.4e-10</td>\n",
       "      <td>-9.7e-11</td>\n",
       "      <td>-3.4e-11</td>\n",
       "    </tr>\n",
       "    <tr>\n",
       "      <th>alpha_0.01</th>\n",
       "      <td>1.6</td>\n",
       "      <td>1.5</td>\n",
       "      <td>-0.18</td>\n",
       "      <td>-0.052</td>\n",
       "      <td>-0.0091</td>\n",
       "      <td>-0.0012</td>\n",
       "      <td>-0.0001</td>\n",
       "      <td>2.3e-06</td>\n",
       "      <td>3.7e-06</td>\n",
       "      <td>1.1e-06</td>\n",
       "      <td>2.5e-07</td>\n",
       "      <td>4.6e-08</td>\n",
       "      <td>7.4e-09</td>\n",
       "      <td>9.3e-10</td>\n",
       "      <td>5e-11</td>\n",
       "      <td>-2e-11</td>\n",
       "      <td>-1e-11</td>\n",
       "    </tr>\n",
       "    <tr>\n",
       "      <th>alpha_1</th>\n",
       "      <td>6.2</td>\n",
       "      <td>1</td>\n",
       "      <td>-0.15</td>\n",
       "      <td>-0.021</td>\n",
       "      <td>-0.0032</td>\n",
       "      <td>-0.00049</td>\n",
       "      <td>-7.4e-05</td>\n",
       "      <td>-1.1e-05</td>\n",
       "      <td>-1.4e-06</td>\n",
       "      <td>-1.6e-07</td>\n",
       "      <td>-1.1e-08</td>\n",
       "      <td>1.2e-09</td>\n",
       "      <td>7.8e-10</td>\n",
       "      <td>2.5e-10</td>\n",
       "      <td>6.4e-11</td>\n",
       "      <td>1.5e-11</td>\n",
       "      <td>3.4e-12</td>\n",
       "    </tr>\n",
       "    <tr>\n",
       "      <th>alpha_5</th>\n",
       "      <td>16</td>\n",
       "      <td>0.58</td>\n",
       "      <td>-0.064</td>\n",
       "      <td>-0.0092</td>\n",
       "      <td>-0.0015</td>\n",
       "      <td>-0.00026</td>\n",
       "      <td>-4.4e-05</td>\n",
       "      <td>-7.4e-06</td>\n",
       "      <td>-1.2e-06</td>\n",
       "      <td>-2.1e-07</td>\n",
       "      <td>-3.4e-08</td>\n",
       "      <td>-5.6e-09</td>\n",
       "      <td>-9e-10</td>\n",
       "      <td>-1.4e-10</td>\n",
       "      <td>-2.2e-11</td>\n",
       "      <td>-3.3e-12</td>\n",
       "      <td>-4.7e-13</td>\n",
       "    </tr>\n",
       "    <tr>\n",
       "      <th>alpha_10</th>\n",
       "      <td>21</td>\n",
       "      <td>0.42</td>\n",
       "      <td>-0.04</td>\n",
       "      <td>-0.006</td>\n",
       "      <td>-0.001</td>\n",
       "      <td>-0.00018</td>\n",
       "      <td>-3.2e-05</td>\n",
       "      <td>-5.6e-06</td>\n",
       "      <td>-1e-06</td>\n",
       "      <td>-1.8e-07</td>\n",
       "      <td>-3.1e-08</td>\n",
       "      <td>-5.6e-09</td>\n",
       "      <td>-9.9e-10</td>\n",
       "      <td>-1.8e-10</td>\n",
       "      <td>-3.1e-11</td>\n",
       "      <td>-5.6e-12</td>\n",
       "      <td>-9.9e-13</td>\n",
       "    </tr>\n",
       "    <tr>\n",
       "      <th>alpha_20</th>\n",
       "      <td>26</td>\n",
       "      <td>0.28</td>\n",
       "      <td>-0.024</td>\n",
       "      <td>-0.0037</td>\n",
       "      <td>-0.00065</td>\n",
       "      <td>-0.00012</td>\n",
       "      <td>-2.1e-05</td>\n",
       "      <td>-3.9e-06</td>\n",
       "      <td>-7.1e-07</td>\n",
       "      <td>-1.3e-07</td>\n",
       "      <td>-2.4e-08</td>\n",
       "      <td>-4.4e-09</td>\n",
       "      <td>-8.1e-10</td>\n",
       "      <td>-1.5e-10</td>\n",
       "      <td>-2.8e-11</td>\n",
       "      <td>-5.1e-12</td>\n",
       "      <td>-9.5e-13</td>\n",
       "    </tr>\n",
       "  </tbody>\n",
       "</table>\n",
       "</div>"
      ],
      "text/plain": [
       "             rss intercept coef_x_1 coef_x_2 coef_x_3 coef_x_4 coef_x_5  \\\n",
       "alpha_1e-15  1.2  -1.7e+02  6.6e+02 -1.1e+03  9.2e+02 -4.4e+02    1e+02   \n",
       "alpha_1e-10  1.2       4.4     -9.5       10     -4.9      0.8    0.094   \n",
       "alpha_1e-08  1.3      0.96    -0.18     0.56    -0.29    0.012   0.0076   \n",
       "alpha_0.0001 1.3      0.83     0.45    -0.15   -0.025   -0.002    9e-05   \n",
       "alpha_0.001  1.3       1.1     0.15   -0.087   -0.018  -0.0022 -0.00013   \n",
       "alpha_0.01   1.6       1.5    -0.18   -0.052  -0.0091  -0.0012  -0.0001   \n",
       "alpha_1      6.2         1    -0.15   -0.021  -0.0032 -0.00049 -7.4e-05   \n",
       "alpha_5       16      0.58   -0.064  -0.0092  -0.0015 -0.00026 -4.4e-05   \n",
       "alpha_10      21      0.42    -0.04   -0.006   -0.001 -0.00018 -3.2e-05   \n",
       "alpha_20      26      0.28   -0.024  -0.0037 -0.00065 -0.00012 -2.1e-05   \n",
       "\n",
       "             coef_x_6 coef_x_7 coef_x_8 coef_x_9 coef_x_10 coef_x_11  \\\n",
       "alpha_1e-15     -0.89     -4.4     0.38     0.15     -0.01   -0.0064   \n",
       "alpha_1e-10    -0.027   -0.005  0.00048  0.00025   1.9e-05  -6.9e-06   \n",
       "alpha_1e-08   0.00031 -0.00015 -2.9e-05   -1e-06   4.8e-07     1e-07   \n",
       "alpha_0.0001  7.2e-05  1.7e-05  3.1e-06  4.6e-07   5.4e-08   3.8e-09   \n",
       "alpha_0.001   2.4e-05  1.1e-05  2.8e-06  5.5e-07   9.2e-08   1.2e-08   \n",
       "alpha_0.01    2.3e-06  3.7e-06  1.1e-06  2.5e-07   4.6e-08   7.4e-09   \n",
       "alpha_1      -1.1e-05 -1.4e-06 -1.6e-07 -1.1e-08   1.2e-09   7.8e-10   \n",
       "alpha_5      -7.4e-06 -1.2e-06 -2.1e-07 -3.4e-08  -5.6e-09    -9e-10   \n",
       "alpha_10     -5.6e-06   -1e-06 -1.8e-07 -3.1e-08  -5.6e-09  -9.9e-10   \n",
       "alpha_20     -3.9e-06 -7.1e-07 -1.3e-07 -2.4e-08  -4.4e-09  -8.1e-10   \n",
       "\n",
       "             coef_x_12 coef_x_13 coef_x_14 coef_x_15  \n",
       "alpha_1e-15    0.00028    0.0003  -5.1e-05   2.5e-06  \n",
       "alpha_1e-10   -1.8e-06   4.4e-08   9.6e-08  -9.4e-09  \n",
       "alpha_1e-08    1.2e-08   1.7e-09   3.1e-10  -2.1e-10  \n",
       "alpha_0.0001  -4.2e-10  -2.7e-10  -8.3e-11  -2.1e-11  \n",
       "alpha_0.001    9.9e-10  -1.4e-10  -9.7e-11  -3.4e-11  \n",
       "alpha_0.01     9.3e-10     5e-11    -2e-11    -1e-11  \n",
       "alpha_1        2.5e-10   6.4e-11   1.5e-11   3.4e-12  \n",
       "alpha_5       -1.4e-10  -2.2e-11  -3.3e-12  -4.7e-13  \n",
       "alpha_10      -1.8e-10  -3.1e-11  -5.6e-12  -9.9e-13  \n",
       "alpha_20      -1.5e-10  -2.8e-11  -5.1e-12  -9.5e-13  "
      ]
     },
     "execution_count": 44,
     "metadata": {},
     "output_type": "execute_result"
    }
   ],
   "source": [
    "pd.options.display.float_format = '{:,.2g}'.format\n",
    "coef_matrix_ridge\n"
   ]
  },
  {
   "cell_type": "code",
   "execution_count": 45,
   "metadata": {},
   "outputs": [
    {
     "data": {
      "text/plain": [
       "alpha_1e-15     0\n",
       "alpha_1e-10     0\n",
       "alpha_1e-08     0\n",
       "alpha_0.0001    0\n",
       "alpha_0.001     0\n",
       "alpha_0.01      0\n",
       "alpha_1         0\n",
       "alpha_5         0\n",
       "alpha_10        0\n",
       "alpha_20        0\n",
       "dtype: int32"
      ]
     },
     "execution_count": 45,
     "metadata": {},
     "output_type": "execute_result"
    }
   ],
   "source": [
    "coef_matrix_ridge.apply(lambda x: sum(x.values==0),axis=1)"
   ]
  },
  {
   "cell_type": "markdown",
   "metadata": {},
   "source": [
    "LASSO REGRESSION"
   ]
  },
  {
   "cell_type": "code",
   "execution_count": 46,
   "metadata": {},
   "outputs": [],
   "source": [
    "def lasso_regression(data, predictors, alpha, models_to_plot={}):\n",
    "    #Fit the model\n",
    "    lassoreg = Lasso(alpha=alpha,normalize=True, max_iter=1e5)\n",
    "    lassoreg.fit(data[predictors],data['y'])\n",
    "    y_pred = lassoreg.predict(data[predictors])\n",
    "    \n",
    "    #Check if a plot is to be made for the entered alpha\n",
    "    if alpha in models_to_plot:\n",
    "        plt.subplot(models_to_plot[alpha])\n",
    "        plt.tight_layout()\n",
    "        plt.plot(data['x'],y_pred)\n",
    "        plt.plot(data['x'],data['y'],'.')\n",
    "        plt.title('Plot for alpha: %.3g'%alpha)\n",
    "    \n",
    "    #Return the result in pre-defined format\n",
    "    rss = sum((y_pred-data['y'])**2)\n",
    "    ret = [rss]\n",
    "    ret.extend([lassoreg.intercept_])\n",
    "    ret.extend(lassoreg.coef_)\n",
    "    return ret"
   ]
  },
  {
   "cell_type": "code",
   "execution_count": 48,
   "metadata": {},
   "outputs": [
    {
     "name": "stderr",
     "output_type": "stream",
     "text": [
      "C:\\ProgramData\\Anaconda3\\lib\\site-packages\\sklearn\\linear_model\\_coordinate_descent.py:530: ConvergenceWarning: Objective did not converge. You might want to increase the number of iterations. Duality gap: 0.6262548731727712, tolerance: 0.004271668182863766\n",
      "  model = cd_fast.enet_coordinate_descent(\n",
      "C:\\ProgramData\\Anaconda3\\lib\\site-packages\\sklearn\\linear_model\\_coordinate_descent.py:530: ConvergenceWarning: Objective did not converge. You might want to increase the number of iterations. Duality gap: 0.6260318897126225, tolerance: 0.004271668182863766\n",
      "  model = cd_fast.enet_coordinate_descent(\n",
      "C:\\ProgramData\\Anaconda3\\lib\\site-packages\\sklearn\\linear_model\\_coordinate_descent.py:530: ConvergenceWarning: Objective did not converge. You might want to increase the number of iterations. Duality gap: 0.604354865382786, tolerance: 0.004271668182863766\n",
      "  model = cd_fast.enet_coordinate_descent(\n"
     ]
    },
    {
     "data": {
      "image/png": "[encoded data removed]",
      "text/plain": [
       "<Figure size 432x288 with 6 Axes>"
      ]
     },
     "metadata": {},
     "output_type": "display_data"
    }
   ],
   "source": [
    "predictors=['x']\n",
    "predictors.extend(['x_%d'%i for i in range(2,16)])\n",
    "\n",
    "#Define the alpha values to test\n",
    "alpha_lasso = [1e-15, 1e-10, 1e-8, 1e-5,1e-4, 1e-3,1e-2, 1, 5, 10]\n",
    "\n",
    "#Initialize the dataframe to store coefficients\n",
    "col = ['rss','intercept'] + ['coef_x_%d'%i for i in range(1,16)]\n",
    "ind = ['alpha_%.2g'%alpha_lasso[i] for i in range(0,10)]\n",
    "coef_matrix_lasso = pd.DataFrame(index=ind, columns=col)\n",
    "\n",
    "#Define the models to plot\n",
    "models_to_plot = {1e-10:231, 1e-5:232,1e-4:233, 1e-3:234, 1e-2:235, 1:236}\n",
    "\n",
    "#Iterate over the 10 alpha values:\n",
    "for i in range(10):\n",
    "    coef_matrix_lasso.iloc[i,] = lasso_regression(data1, predictors, alpha_lasso[i], models_to_plot)"
   ]
  },
  {
   "cell_type": "code",
   "execution_count": 49,
   "metadata": {},
   "outputs": [
    {
     "data": {
      "text/html": [
       "<div>\n",
       "<style scoped>\n",
       "    .dataframe tbody tr th:only-of-type {\n",
       "        vertical-align: middle;\n",
       "    }\n",
       "\n",
       "    .dataframe tbody tr th {\n",
       "        vertical-align: top;\n",
       "    }\n",
       "\n",
       "    .dataframe thead th {\n",
       "        text-align: right;\n",
       "    }\n",
       "</style>\n",
       "<table border=\"1\" class=\"dataframe\">\n",
       "  <thead>\n",
       "    <tr style=\"text-align: right;\">\n",
       "      <th></th>\n",
       "      <th>rss</th>\n",
       "      <th>intercept</th>\n",
       "      <th>coef_x_1</th>\n",
       "      <th>coef_x_2</th>\n",
       "      <th>coef_x_3</th>\n",
       "      <th>coef_x_4</th>\n",
       "      <th>coef_x_5</th>\n",
       "      <th>coef_x_6</th>\n",
       "      <th>coef_x_7</th>\n",
       "      <th>coef_x_8</th>\n",
       "      <th>coef_x_9</th>\n",
       "      <th>coef_x_10</th>\n",
       "      <th>coef_x_11</th>\n",
       "      <th>coef_x_12</th>\n",
       "      <th>coef_x_13</th>\n",
       "      <th>coef_x_14</th>\n",
       "      <th>coef_x_15</th>\n",
       "    </tr>\n",
       "  </thead>\n",
       "  <tbody>\n",
       "    <tr>\n",
       "      <th>alpha_1e-15</th>\n",
       "      <td>1.3</td>\n",
       "      <td>0.45</td>\n",
       "      <td>0.99</td>\n",
       "      <td>-0.37</td>\n",
       "      <td>-0.0063</td>\n",
       "      <td>0.0019</td>\n",
       "      <td>0.00026</td>\n",
       "      <td>1.6e-05</td>\n",
       "      <td>1.7e-06</td>\n",
       "      <td>8.6e-07</td>\n",
       "      <td>3.1e-07</td>\n",
       "      <td>7.9e-08</td>\n",
       "      <td>1.5e-08</td>\n",
       "      <td>2e-09</td>\n",
       "      <td>4.7e-11</td>\n",
       "      <td>-8.4e-11</td>\n",
       "      <td>-3.9e-11</td>\n",
       "    </tr>\n",
       "    <tr>\n",
       "      <th>alpha_1e-10</th>\n",
       "      <td>1.3</td>\n",
       "      <td>0.45</td>\n",
       "      <td>0.99</td>\n",
       "      <td>-0.37</td>\n",
       "      <td>-0.0063</td>\n",
       "      <td>0.0019</td>\n",
       "      <td>0.00026</td>\n",
       "      <td>1.6e-05</td>\n",
       "      <td>1.7e-06</td>\n",
       "      <td>8.6e-07</td>\n",
       "      <td>3.1e-07</td>\n",
       "      <td>7.9e-08</td>\n",
       "      <td>1.5e-08</td>\n",
       "      <td>2e-09</td>\n",
       "      <td>4.8e-11</td>\n",
       "      <td>-8.4e-11</td>\n",
       "      <td>-3.9e-11</td>\n",
       "    </tr>\n",
       "    <tr>\n",
       "      <th>alpha_1e-08</th>\n",
       "      <td>1.3</td>\n",
       "      <td>0.45</td>\n",
       "      <td>0.99</td>\n",
       "      <td>-0.37</td>\n",
       "      <td>-0.0062</td>\n",
       "      <td>0.0019</td>\n",
       "      <td>0.00026</td>\n",
       "      <td>1.7e-05</td>\n",
       "      <td>1.7e-06</td>\n",
       "      <td>8.6e-07</td>\n",
       "      <td>3.1e-07</td>\n",
       "      <td>7.9e-08</td>\n",
       "      <td>1.5e-08</td>\n",
       "      <td>2e-09</td>\n",
       "      <td>6.3e-11</td>\n",
       "      <td>-8.3e-11</td>\n",
       "      <td>-3.9e-11</td>\n",
       "    </tr>\n",
       "    <tr>\n",
       "      <th>alpha_1e-05</th>\n",
       "      <td>1.3</td>\n",
       "      <td>0.7</td>\n",
       "      <td>0.63</td>\n",
       "      <td>-0.22</td>\n",
       "      <td>-0.021</td>\n",
       "      <td>-0</td>\n",
       "      <td>0</td>\n",
       "      <td>0</td>\n",
       "      <td>3.6e-05</td>\n",
       "      <td>3.6e-06</td>\n",
       "      <td>0</td>\n",
       "      <td>0</td>\n",
       "      <td>0</td>\n",
       "      <td>0</td>\n",
       "      <td>-0</td>\n",
       "      <td>-0</td>\n",
       "      <td>-3e-11</td>\n",
       "    </tr>\n",
       "    <tr>\n",
       "      <th>alpha_0.0001</th>\n",
       "      <td>1.3</td>\n",
       "      <td>1.2</td>\n",
       "      <td>0</td>\n",
       "      <td>-0.011</td>\n",
       "      <td>-0.038</td>\n",
       "      <td>-0</td>\n",
       "      <td>0</td>\n",
       "      <td>0</td>\n",
       "      <td>7.3e-06</td>\n",
       "      <td>7.6e-06</td>\n",
       "      <td>0</td>\n",
       "      <td>0</td>\n",
       "      <td>0</td>\n",
       "      <td>0</td>\n",
       "      <td>-0</td>\n",
       "      <td>-0</td>\n",
       "      <td>-2.3e-11</td>\n",
       "    </tr>\n",
       "    <tr>\n",
       "      <th>alpha_0.001</th>\n",
       "      <td>1.6</td>\n",
       "      <td>1.4</td>\n",
       "      <td>-0.002</td>\n",
       "      <td>-0.14</td>\n",
       "      <td>-0</td>\n",
       "      <td>-0</td>\n",
       "      <td>0</td>\n",
       "      <td>0</td>\n",
       "      <td>0</td>\n",
       "      <td>0</td>\n",
       "      <td>0</td>\n",
       "      <td>0</td>\n",
       "      <td>2e-08</td>\n",
       "      <td>0</td>\n",
       "      <td>0</td>\n",
       "      <td>0</td>\n",
       "      <td>0</td>\n",
       "    </tr>\n",
       "    <tr>\n",
       "      <th>alpha_0.01</th>\n",
       "      <td>3.5</td>\n",
       "      <td>1.9</td>\n",
       "      <td>-0.61</td>\n",
       "      <td>-0</td>\n",
       "      <td>-0</td>\n",
       "      <td>-0</td>\n",
       "      <td>-0</td>\n",
       "      <td>-0</td>\n",
       "      <td>-0</td>\n",
       "      <td>-0</td>\n",
       "      <td>0</td>\n",
       "      <td>0</td>\n",
       "      <td>0</td>\n",
       "      <td>0</td>\n",
       "      <td>0</td>\n",
       "      <td>0</td>\n",
       "      <td>0</td>\n",
       "    </tr>\n",
       "    <tr>\n",
       "      <th>alpha_1</th>\n",
       "      <td>43</td>\n",
       "      <td>0.026</td>\n",
       "      <td>-0</td>\n",
       "      <td>-0</td>\n",
       "      <td>-0</td>\n",
       "      <td>-0</td>\n",
       "      <td>-0</td>\n",
       "      <td>-0</td>\n",
       "      <td>-0</td>\n",
       "      <td>-0</td>\n",
       "      <td>-0</td>\n",
       "      <td>-0</td>\n",
       "      <td>-0</td>\n",
       "      <td>-0</td>\n",
       "      <td>-0</td>\n",
       "      <td>-0</td>\n",
       "      <td>-0</td>\n",
       "    </tr>\n",
       "    <tr>\n",
       "      <th>alpha_5</th>\n",
       "      <td>43</td>\n",
       "      <td>0.026</td>\n",
       "      <td>-0</td>\n",
       "      <td>-0</td>\n",
       "      <td>-0</td>\n",
       "      <td>-0</td>\n",
       "      <td>-0</td>\n",
       "      <td>-0</td>\n",
       "      <td>-0</td>\n",
       "      <td>-0</td>\n",
       "      <td>-0</td>\n",
       "      <td>-0</td>\n",
       "      <td>-0</td>\n",
       "      <td>-0</td>\n",
       "      <td>-0</td>\n",
       "      <td>-0</td>\n",
       "      <td>-0</td>\n",
       "    </tr>\n",
       "    <tr>\n",
       "      <th>alpha_10</th>\n",
       "      <td>43</td>\n",
       "      <td>0.026</td>\n",
       "      <td>-0</td>\n",
       "      <td>-0</td>\n",
       "      <td>-0</td>\n",
       "      <td>-0</td>\n",
       "      <td>-0</td>\n",
       "      <td>-0</td>\n",
       "      <td>-0</td>\n",
       "      <td>-0</td>\n",
       "      <td>-0</td>\n",
       "      <td>-0</td>\n",
       "      <td>-0</td>\n",
       "      <td>-0</td>\n",
       "      <td>-0</td>\n",
       "      <td>-0</td>\n",
       "      <td>-0</td>\n",
       "    </tr>\n",
       "  </tbody>\n",
       "</table>\n",
       "</div>"
      ],
      "text/plain": [
       "             rss intercept coef_x_1 coef_x_2 coef_x_3 coef_x_4 coef_x_5  \\\n",
       "alpha_1e-15  1.3      0.45     0.99    -0.37  -0.0063   0.0019  0.00026   \n",
       "alpha_1e-10  1.3      0.45     0.99    -0.37  -0.0063   0.0019  0.00026   \n",
       "alpha_1e-08  1.3      0.45     0.99    -0.37  -0.0062   0.0019  0.00026   \n",
       "alpha_1e-05  1.3       0.7     0.63    -0.22   -0.021       -0        0   \n",
       "alpha_0.0001 1.3       1.2        0   -0.011   -0.038       -0        0   \n",
       "alpha_0.001  1.6       1.4   -0.002    -0.14       -0       -0        0   \n",
       "alpha_0.01   3.5       1.9    -0.61       -0       -0       -0       -0   \n",
       "alpha_1       43     0.026       -0       -0       -0       -0       -0   \n",
       "alpha_5       43     0.026       -0       -0       -0       -0       -0   \n",
       "alpha_10      43     0.026       -0       -0       -0       -0       -0   \n",
       "\n",
       "             coef_x_6 coef_x_7 coef_x_8 coef_x_9 coef_x_10 coef_x_11  \\\n",
       "alpha_1e-15   1.6e-05  1.7e-06  8.6e-07  3.1e-07   7.9e-08   1.5e-08   \n",
       "alpha_1e-10   1.6e-05  1.7e-06  8.6e-07  3.1e-07   7.9e-08   1.5e-08   \n",
       "alpha_1e-08   1.7e-05  1.7e-06  8.6e-07  3.1e-07   7.9e-08   1.5e-08   \n",
       "alpha_1e-05         0  3.6e-05  3.6e-06        0         0         0   \n",
       "alpha_0.0001        0  7.3e-06  7.6e-06        0         0         0   \n",
       "alpha_0.001         0        0        0        0         0     2e-08   \n",
       "alpha_0.01         -0       -0       -0        0         0         0   \n",
       "alpha_1            -0       -0       -0       -0        -0        -0   \n",
       "alpha_5            -0       -0       -0       -0        -0        -0   \n",
       "alpha_10           -0       -0       -0       -0        -0        -0   \n",
       "\n",
       "             coef_x_12 coef_x_13 coef_x_14 coef_x_15  \n",
       "alpha_1e-15      2e-09   4.7e-11  -8.4e-11  -3.9e-11  \n",
       "alpha_1e-10      2e-09   4.8e-11  -8.4e-11  -3.9e-11  \n",
       "alpha_1e-08      2e-09   6.3e-11  -8.3e-11  -3.9e-11  \n",
       "alpha_1e-05          0        -0        -0    -3e-11  \n",
       "alpha_0.0001         0        -0        -0  -2.3e-11  \n",
       "alpha_0.001          0         0         0         0  \n",
       "alpha_0.01           0         0         0         0  \n",
       "alpha_1             -0        -0        -0        -0  \n",
       "alpha_5             -0        -0        -0        -0  \n",
       "alpha_10            -0        -0        -0        -0  "
      ]
     },
     "execution_count": 49,
     "metadata": {},
     "output_type": "execute_result"
    }
   ],
   "source": [
    "pd.options.display.float_format = '{:,.2g}'.format\n",
    "coef_matrix_lasso"
   ]
  },
  {
   "cell_type": "code",
   "execution_count": 50,
   "metadata": {},
   "outputs": [
    {
     "data": {
      "text/plain": [
       "alpha_1e-15      0\n",
       "alpha_1e-10      0\n",
       "alpha_1e-08      0\n",
       "alpha_1e-05      9\n",
       "alpha_0.0001    10\n",
       "alpha_0.001     12\n",
       "alpha_0.01      14\n",
       "alpha_1         15\n",
       "alpha_5         15\n",
       "alpha_10        15\n",
       "dtype: int32"
      ]
     },
     "execution_count": 50,
     "metadata": {},
     "output_type": "execute_result"
    }
   ],
   "source": [
    "coef_matrix_lasso.apply(lambda x: sum(x.values==0),axis=1)"
   ]
  }
 ],
 "metadata": {
  "interpreter": {
   "hash": "ad2bdc8ecc057115af97d19610ffacc2b4e99fae6737bb82f5d7fb13d2f2c186"
  },
  "kernelspec": {
   "display_name": "Python 3.9.7 ('base')",
   "language": "python",
   "name": "python3"
  },
  "language_info": {
   "codemirror_mode": {
    "name": "ipython",
    "version": 3
   },
   "file_extension": ".py",
   "mimetype": "text/x-python",
   "name": "python",
   "nbconvert_exporter": "python",
   "pygments_lexer": "ipython3",
   "version": "3.9.7"
  },
  "orig_nbformat": 4
 },
 "nbformat": 4,
 "nbformat_minor": 2
}
